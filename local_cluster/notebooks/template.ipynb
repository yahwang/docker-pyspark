{
 "cells": [
  {
   "cell_type": "code",
   "execution_count": 1,
   "metadata": {},
   "outputs": [],
   "source": [
    "from pyspark import SparkConf\n",
    "from pyspark.sql import SparkSession\n",
    "\n",
    "# EC2가 아니라 로컬 또는 온프레미스의 경우, access key 설정이 따로 필요\n",
    "conf = SparkConf()\n",
    "conf.set(\"spark.hadoop.fs.s3a.access.key\", \"\")\n",
    "conf.set(\"spark.hadoop.fs.s3a.secret.key\", \"\")\n",
    "conf.set(\"spark.sql.execution.arrow.enabled\", \"true\")\n",
    "conf.set(\"spark.driver.memory\", \"\")\n",
    "\n",
    "spark = SparkSession.builder \\\n",
    "    .config(conf=conf) \\\n",
    "    .master(\"local[*]\") \\\n",
    "    .appName(\"Learning_Spark\") \\\n",
    "    .getOrCreate()"
   ]
  }
 ],
 "metadata": {
  "kernelspec": {
   "display_name": "Python 3",
   "language": "python",
   "name": "python3"
  },
  "language_info": {
   "codemirror_mode": {
    "name": "ipython",
    "version": 3
   },
   "file_extension": ".py",
   "mimetype": "text/x-python",
   "name": "python",
   "nbconvert_exporter": "python",
   "pygments_lexer": "ipython3",
   "version": "3.7.5"
  }
 },
 "nbformat": 4,
 "nbformat_minor": 4
}
