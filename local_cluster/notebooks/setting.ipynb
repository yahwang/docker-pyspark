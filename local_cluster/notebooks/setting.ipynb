{
 "cells": [
  {
   "cell_type": "code",
   "execution_count": null,
   "metadata": {},
   "outputs": [],
   "source": [
    "from pyspark.sql import SparkSession\n",
    "from pyspark import SparkConf\n",
    "\n",
    "# EC2가 아니라 로컬 또는 온프레미스의 경우, access key 설정이 따로 필요\n",
    "conf = SparkConf()\n",
    "conf.set(\"spark.hadoop.fs.s3a.access.key\", \" ACCESS KEY\")\n",
    "conf.set(\"spark.hadoop.fs.s3a.secret.key\", \" SECERT KEY\")\n",
    "conf.set(\"spark.hadoop.fs.s3a.endpoint\", \"s3.ap-XXX.amazonaws.com\")\n",
    "conf.set(\"spark.driver.memory\", \" Xg \") # default: 1g\n",
    "conf.set(\"spark.driver.maxResultSize\", \" Xg\") # default: 1g\n",
    "\n",
    "spark = SparkSession.builder \\\n",
    "    .master(\"local[*]\") \\\n",
    "    .config(conf=conf) \\\n",
    "    .appName(\"Learning_Spark\") \\\n",
    "    .getOrCreate()\n",
    "\n",
    "spark.sparkContext.setSystemProperty(\"com.amazonaws.services.s3.enableV4\", \"true\")\n",
    "\n",
    "df = spark.read.format(\"csv\") \\\n",
    "        .option(\"header\", \"true\") \\\n",
    "        .option(\"inferSchema\", \"true\") \\\n",
    "        .csv(\"s3a:// XXXX .csv\")"
   ]
  }
 ],
 "metadata": {
  "kernelspec": {
   "display_name": "Python 3",
   "language": "python",
   "name": "python3"
  },
  "language_info": {
   "codemirror_mode": {
    "name": "ipython",
    "version": 3
   },
   "file_extension": ".py",
   "mimetype": "text/x-python",
   "name": "python",
   "nbconvert_exporter": "python",
   "pygments_lexer": "ipython3",
   "version": "3.7.5"
  }
 },
 "nbformat": 4,
 "nbformat_minor": 4
}
